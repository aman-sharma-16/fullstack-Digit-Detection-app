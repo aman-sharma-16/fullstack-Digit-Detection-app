{
 "cells": [
  {
   "cell_type": "markdown",
   "metadata": {},
   "source": [
    "#   NN for Handwritten Digit Classification"
   ]
  },
  {
   "cell_type": "markdown",
   "metadata": {},
   "source": [
    "*   Imports\n"
   ]
  },
  {
   "cell_type": "code",
   "execution_count": 425,
   "metadata": {},
   "outputs": [],
   "source": [
    "from sklearn.datasets import load_digits\n",
    "import pandas as pd\n",
    "from matplotlib import pyplot as plt\n",
    "from numpy import ndarray\n",
    "import numpy as np\n",
    "from typing import Callable, List\n",
    "from sklearn.model_selection import train_test_split"
   ]
  },
  {
   "cell_type": "code",
   "execution_count": 501,
   "metadata": {},
   "outputs": [],
   "source": [
    "dataset = load_digits()\n",
    "dataset_len = len(dataset[\"data\"])"
   ]
  },
  {
   "cell_type": "code",
   "execution_count": null,
   "metadata": {},
   "outputs": [],
   "source": [
    "plt.figure(figsize=(6, 7))\n",
    "for i in range(16):\n",
    "    plt.subplot(4, 4, i + 1)\n",
    "    index = np.random.randint(0, dataset_len)\n",
    "    img = dataset[\"data\"][index].reshape(8, 8)\n",
    "    plt.imshow(img, cmap=\"gray\")\n",
    "    plt.title(dataset[\"target\"][index])\n",
    "    plt.axis(False)"
   ]
  },
  {
   "cell_type": "code",
   "execution_count": 428,
   "metadata": {},
   "outputs": [],
   "source": [
    "norm_dataset = (dataset[\"data\"] - np.mean(dataset[\"data\"])) / np.std(dataset[\"data\"])"
   ]
  },
  {
   "cell_type": "code",
   "execution_count": 429,
   "metadata": {},
   "outputs": [],
   "source": [
    "X = pd.DataFrame(norm_dataset, columns=dataset[\"feature_names\"])\n",
    "y = pd.DataFrame(np.array(list(map(str, dataset[\"target\"]))), columns=[\"Target_Img\"])"
   ]
  },
  {
   "cell_type": "code",
   "execution_count": 430,
   "metadata": {},
   "outputs": [],
   "source": [
    "y = pd.get_dummies(y)"
   ]
  },
  {
   "cell_type": "code",
   "execution_count": 431,
   "metadata": {},
   "outputs": [],
   "source": [
    "X_train, X_test, y_train, y_test = train_test_split(\n",
    "    X, y, test_size=0.3, shuffle=True, random_state=45\n",
    ")"
   ]
  },
  {
   "cell_type": "markdown",
   "metadata": {},
   "source": [
    "- defining the relevent function\n"
   ]
  },
  {
   "cell_type": "code",
   "execution_count": 432,
   "metadata": {},
   "outputs": [],
   "source": [
    "# the dot product function\n",
    "\n",
    "\n",
    "def dot_product(x: ndarray, w: ndarray) -> ndarray:\n",
    "\n",
    "    return np.dot(x, w)"
   ]
  },
  {
   "cell_type": "code",
   "execution_count": 433,
   "metadata": {},
   "outputs": [],
   "source": [
    "# adding the bias\n",
    "\n",
    "\n",
    "def add_bias(xw: ndarray, bias: ndarray) -> ndarray:\n",
    "\n",
    "    return xw + bias"
   ]
  },
  {
   "cell_type": "code",
   "execution_count": 434,
   "metadata": {},
   "outputs": [],
   "source": [
    "def softmax(x: ndarray) -> ndarray:\n",
    "    result = []\n",
    "    for p in x:\n",
    "        X = np.exp(p)\n",
    "        X = [(i / sum(X)) for i in X]\n",
    "        result.append(np.clip(np.array(X), 1e-9, 1 - 1e-9))\n",
    "    return np.array(result)"
   ]
  },
  {
   "cell_type": "code",
   "execution_count": 435,
   "metadata": {},
   "outputs": [],
   "source": [
    "# calculating the loss as mean squared error\n",
    "\n",
    "\n",
    "def softmax_cross_entropy(\n",
    "    actual_value: ndarray,\n",
    "    predicted_value: ndarray,\n",
    ") -> float:\n",
    "    \"\"\"\n",
    "    Returns the softmax cross entropy error for the predicted values\n",
    "    \"\"\"\n",
    "    softmax_value = softmax(predicted_value)\n",
    "\n",
    "    cross_entropy_loss = np.average(\n",
    "        -1.0 * actual_value * np.log(softmax_value)\n",
    "        - ((1.0 - actual_value) * np.log(1 - softmax_value)),\n",
    "        axis=1,\n",
    "    )\n",
    "\n",
    "    return cross_entropy_loss"
   ]
  },
  {
   "cell_type": "code",
   "execution_count": 436,
   "metadata": {},
   "outputs": [],
   "source": [
    "def tanh_activation(x: ndarray) -> ndarray:\n",
    "    \"\"\"\n",
    "    Apply the tanh_activation function to each element in the input ndarray.\n",
    "    \"\"\"\n",
    "    eX = np.clip(np.power(np.e, x), 1e-9, 1 - 1e-9)\n",
    "    e_X = np.clip(np.power(np.e, -x), 1e-9, 1 - 1e-9)\n",
    "\n",
    "    return (eX - e_X) / (eX + e_X)"
   ]
  },
  {
   "cell_type": "markdown",
   "metadata": {},
   "source": [
    "- defining the types\n"
   ]
  },
  {
   "cell_type": "code",
   "execution_count": 437,
   "metadata": {},
   "outputs": [],
   "source": [
    "# Defining the type of the input funcion\n",
    "Array_function = Callable[[ndarray], ndarray]\n",
    "\n",
    "# Defining the type of chain of the funtions\n",
    "func_chain = List[Array_function]"
   ]
  },
  {
   "cell_type": "markdown",
   "metadata": {},
   "source": [
    "- defining the function chain\n"
   ]
  },
  {
   "cell_type": "code",
   "execution_count": 438,
   "metadata": {},
   "outputs": [],
   "source": [
    "def linear_reg_with_NN(\n",
    "    tanh_activation: Callable[[ndarray], ndarray],\n",
    "    softmax_cross_entropy: Callable[[ndarray], ndarray],\n",
    "    x: ndarray,\n",
    "    w1: ndarray,  # an array of size (9,9)\n",
    "    w2: ndarray,  # an array of size (9,1)\n",
    "    b1: ndarray,  # an array of size (9,1)\n",
    "    b2: ndarray,  # an array of size (1,1)\n",
    "    y: ndarray,\n",
    ") -> ndarray:\n",
    "\n",
    "    xw1 = np.dot(x, w1)  # it gives the dot product of x and w1\n",
    "    xw1B1 = xw1 + b1  # it adds the bias b1 to xw1\n",
    "\n",
    "    x2 = tanh_activation(xw1B1)\n",
    "\n",
    "    x2w2 = np.dot(x2, w2)  # it gives the dot product of x2 and w2\n",
    "\n",
    "    x2w2B2 = softmax(x2w2 + b2)  # it adds the bias b2 to x2w2\n",
    "    result = []\n",
    "    for i in x2w2B2:\n",
    "        i = np.array([p == max(i) for p in i])\n",
    "        result.append(i)\n",
    "    x2w2B2 = np.array(result).astype(np.float32)\n",
    "    loss = np.average(softmax_cross_entropy(y, x2w2B2))\n",
    "\n",
    "    return {\n",
    "        \"y_pred\": x2w2B2,\n",
    "        \"loss\": loss,\n",
    "        \"shape_of_xw1\": xw1.shape,\n",
    "        \"shape_of_x2w2\": x2w2.shape,\n",
    "        \"x1w1B1\": x2,\n",
    "    }"
   ]
  },
  {
   "cell_type": "markdown",
   "metadata": {},
   "source": [
    "- defining the derivative function\n"
   ]
  },
  {
   "cell_type": "code",
   "execution_count": 439,
   "metadata": {},
   "outputs": [],
   "source": [
    "def derivatives(\n",
    "    x1: ndarray,\n",
    "    x2: ndarray,\n",
    "    w2: ndarray,\n",
    "    shape_of_xw1: tuple,\n",
    "    shape_of_x2w2: tuple,\n",
    "    y_pred: ndarray,\n",
    "    tanh_activation,\n",
    "    y: ndarray,\n",
    ") -> dict:\n",
    "    dL_dB2 = (y_pred - y) * np.ones(shape_of_x2w2)\n",
    "    dL_dW2 = np.dot(x2.transpose(), dL_dB2)\n",
    "\n",
    "    dL_dB1 = (\n",
    "        np.dot(dL_dB2, w2.transpose())\n",
    "        * (1 - np.power(tanh_activation(x2), 2))\n",
    "        * np.ones(shape_of_xw1)\n",
    "    )\n",
    "    dL_dW1 = np.dot(x1.transpose(), dL_dB1)\n",
    "\n",
    "    return {\n",
    "        \"dL_dW1\": dL_dW1.astype(np.float64),\n",
    "        \"dL_dW2\": dL_dW2.astype(np.float64),\n",
    "        \"dL_dB2\": np.average(dL_dB2, axis=0).astype(np.float64),\n",
    "        \"dL_dB1\": np.average(dL_dB1, axis=0).astype(np.float64),\n",
    "    }"
   ]
  },
  {
   "cell_type": "markdown",
   "metadata": {},
   "source": [
    "- hyperparameters intialization\n"
   ]
  },
  {
   "cell_type": "code",
   "execution_count": 440,
   "metadata": {},
   "outputs": [],
   "source": [
    "W1 = np.random.rand(64, 16)\n",
    "W2 = np.random.rand(16, 10)\n",
    "B1 = np.random.rand(1, 16)\n",
    "B2 = np.random.rand(1, 10)\n",
    "learning_rate = 0.001\n",
    "loss_threshold = 0.2264\n",
    "losses = []\n",
    "validation_losses = []\n",
    "iteration = 0"
   ]
  },
  {
   "cell_type": "markdown",
   "metadata": {},
   "source": [
    "- Traning loop\n"
   ]
  },
  {
   "cell_type": "code",
   "execution_count": 441,
   "metadata": {},
   "outputs": [],
   "source": [
    "stored: bool = True"
   ]
  },
  {
   "cell_type": "code",
   "execution_count": 442,
   "metadata": {},
   "outputs": [],
   "source": [
    "while True:\n",
    "    if stored:\n",
    "        break\n",
    "\n",
    "    result = linear_reg_with_NN(\n",
    "        tanh_activation,\n",
    "        softmax_cross_entropy,\n",
    "        x=X_train,\n",
    "        w1=W1,\n",
    "        w2=W2,\n",
    "        b1=B1,\n",
    "        b2=B2,\n",
    "        y=y_train,\n",
    "    )\n",
    "\n",
    "    y_pred_custom = result[\"y_pred\"]\n",
    "\n",
    "    loss = result[\"loss\"]\n",
    "\n",
    "    shape_of_xw1 = result[\"shape_of_xw1\"]\n",
    "\n",
    "    shape_of_x2w2 = result[\"shape_of_x2w2\"]\n",
    "\n",
    "    x1w1B1 = result[\"x1w1B1\"]\n",
    "\n",
    "    iteration += 1\n",
    "\n",
    "    losses.append(loss)\n",
    "\n",
    "    if loss <= loss_threshold:\n",
    "\n",
    "        final_Weights = {\"W1\": W1, \"W2\": W2}\n",
    "\n",
    "        final_bias = {\"B1\": B1, \"B2\": B2}\n",
    "\n",
    "        print(\n",
    "            f\"values of Weigths : {final_Weights} and biases : {final_bias} and loss : {loss}\"\n",
    "        )\n",
    "\n",
    "        break\n",
    "\n",
    "    derivates = derivatives(\n",
    "        x1=X_train,\n",
    "        x2=x1w1B1,\n",
    "        w2=W2,\n",
    "        tanh_activation=tanh_activation,\n",
    "        shape_of_xw1=shape_of_xw1,\n",
    "        shape_of_x2w2=shape_of_x2w2,\n",
    "        y_pred=y_pred_custom,\n",
    "        y=y_train,\n",
    "    )\n",
    "\n",
    "    W1 -= learning_rate * (derivates[\"dL_dW1\"])\n",
    "\n",
    "    B1 -= learning_rate * (derivates[\"dL_dB1\"])\n",
    "\n",
    "    W2 -= learning_rate * (derivates[\"dL_dW2\"])\n",
    "\n",
    "    B2 -= learning_rate * (derivates[\"dL_dB2\"])\n",
    "\n",
    "    # Validation\n",
    "    validation = linear_reg_with_NN(\n",
    "        tanh_activation,\n",
    "        softmax_cross_entropy,\n",
    "        x=X_test[:120],\n",
    "        w1=W1,\n",
    "        w2=W2,\n",
    "        b1=B1,\n",
    "        b2=B2,\n",
    "        y=y_test[:120],\n",
    "    )\n",
    "    validation_loss = validation[\"loss\"]\n",
    "    validation_losses.append(validation_loss)\n",
    "\n",
    "    if iteration % 200 == 0:\n",
    "\n",
    "        print(\n",
    "            f\"Testing loss is {loss}, validation loss is {validation_loss} and the learning rate is {learning_rate}\"\n",
    "        )\n",
    "\n",
    "    # print(derivates[\"dL_dW1\"][0])\n",
    "    # print(derivates[\"dL_dW2\"][0])\n",
    "    # print(derivates[\"dL_dB1\"])\n",
    "    # print(derivates[\"dL_dB2\"][0])\n",
    "\n",
    "    # # print(W1)\n",
    "    # # print(W2)\n",
    "    # # print(B1)\n",
    "    # # print(B2)\n",
    "    # break\n",
    "if not stored:\n",
    "    plt.plot(losses)\n",
    "    plt.plot(validation_losses)\n",
    "\n",
    "    plt.legend([\"Losses\", \"validation lossess\"])\n",
    "\n",
    "    plt.show()"
   ]
  },
  {
   "cell_type": "code",
   "execution_count": 443,
   "metadata": {},
   "outputs": [],
   "source": [
    "if not stored:\n",
    "    print(final_Weights[\"W1\"].shape, final_Weights[\"W2\"].shape)"
   ]
  },
  {
   "cell_type": "code",
   "execution_count": 444,
   "metadata": {},
   "outputs": [],
   "source": [
    "if not stored:\n",
    "    print(final_bias[\"B1\"].shape, final_bias[\"B2\"].shape)"
   ]
  },
  {
   "cell_type": "markdown",
   "metadata": {},
   "source": [
    "- saving the state dict as json file\n"
   ]
  },
  {
   "cell_type": "code",
   "execution_count": 445,
   "metadata": {},
   "outputs": [],
   "source": [
    "import json\n",
    "\n",
    "file_path = \"model/state_dict_digits_classification.json\"\n",
    "if not stored:\n",
    "    state_dict = {\n",
    "        \"Weights\": {\n",
    "            \"w1\": final_Weights[\"W1\"].tolist(),\n",
    "            \"w2\": final_Weights[\"W2\"].tolist(),\n",
    "        },\n",
    "        \"Biases\": {\"b1\": final_bias[\"B1\"].tolist(), \"b2\": final_bias[\"B2\"].tolist()},\n",
    "    }\n",
    "\n",
    "    with open(file_path, \"w\") as json_file:\n",
    "        json.dump(state_dict, json_file, indent=6)"
   ]
  },
  {
   "cell_type": "code",
   "execution_count": 446,
   "metadata": {},
   "outputs": [],
   "source": [
    "with open(file_path, \"r\") as json_file_read:\n",
    "    hyper_parameters = json.load(json_file_read)"
   ]
  },
  {
   "cell_type": "code",
   "execution_count": 447,
   "metadata": {},
   "outputs": [],
   "source": [
    "def convert_to_np_array(input_data) -> ndarray:\n",
    "    return np.array(input_data)"
   ]
  },
  {
   "cell_type": "code",
   "execution_count": null,
   "metadata": {},
   "outputs": [],
   "source": [
    "y_test"
   ]
  },
  {
   "cell_type": "code",
   "execution_count": null,
   "metadata": {},
   "outputs": [],
   "source": [
    "y_pred = linear_reg_with_NN(\n",
    "    tanh_activation,\n",
    "    softmax_cross_entropy,\n",
    "    x=X_test[121:],\n",
    "    w1=convert_to_np_array(hyper_parameters[\"Weights\"][\"w1\"]),\n",
    "    w2=convert_to_np_array(hyper_parameters[\"Weights\"][\"w2\"]),\n",
    "    b1=convert_to_np_array(hyper_parameters[\"Biases\"][\"b1\"]),\n",
    "    b2=convert_to_np_array(hyper_parameters[\"Biases\"][\"b2\"]),\n",
    "    y=y_test[121:],\n",
    ")\n",
    "y_pred"
   ]
  },
  {
   "cell_type": "code",
   "execution_count": null,
   "metadata": {},
   "outputs": [],
   "source": [
    "y_pred[\"loss\"]"
   ]
  },
  {
   "cell_type": "code",
   "execution_count": null,
   "metadata": {},
   "outputs": [],
   "source": [
    "final_result = np.sum(y_test[121:] == y_pred[\"y_pred\"], axis=1) == 10\n",
    "final_result = np.sum(final_result)\n",
    "final_result"
   ]
  },
  {
   "cell_type": "code",
   "execution_count": null,
   "metadata": {},
   "outputs": [],
   "source": [
    "len(X_test)"
   ]
  },
  {
   "cell_type": "code",
   "execution_count": null,
   "metadata": {},
   "outputs": [],
   "source": [
    "(final_result / len(y_test[121:])) * 100"
   ]
  },
  {
   "cell_type": "code",
   "execution_count": null,
   "metadata": {},
   "outputs": [],
   "source": [
    "i = 50\n",
    "test_input = X_test[i : i + 4]\n",
    "test_input"
   ]
  },
  {
   "cell_type": "code",
   "execution_count": null,
   "metadata": {},
   "outputs": [],
   "source": [
    "test_output = y_test[i : i + 4]\n",
    "output_numbers = [8, 3, 4, 7]\n",
    "test_output"
   ]
  },
  {
   "cell_type": "code",
   "execution_count": null,
   "metadata": {},
   "outputs": [],
   "source": [
    "plt.figure(figsize=(8, 6))\n",
    "for i in range(4):\n",
    "    plt.subplot(2, 2, i + 1)\n",
    "    img = np.array(test_input[i : i + 1]).reshape(8, 8)\n",
    "    plt.imshow(img, cmap=\"gray\")\n",
    "    plt.title(dataset[\"target\"][output_numbers[i]])\n",
    "    plt.axis(False)"
   ]
  },
  {
   "cell_type": "code",
   "execution_count": null,
   "metadata": {},
   "outputs": [],
   "source": [
    "linear_reg_with_NN(\n",
    "    tanh_activation,\n",
    "    softmax_cross_entropy,\n",
    "    x=test_input,\n",
    "    w1=convert_to_np_array(hyper_parameters[\"Weights\"][\"w1\"]),\n",
    "    w2=convert_to_np_array(hyper_parameters[\"Weights\"][\"w2\"]),\n",
    "    b1=convert_to_np_array(hyper_parameters[\"Biases\"][\"b1\"]),\n",
    "    b2=convert_to_np_array(hyper_parameters[\"Biases\"][\"b2\"]),\n",
    "    y=test_output,\n",
    ")"
   ]
  },
  {
   "cell_type": "markdown",
   "metadata": {},
   "source": [
    "# Mistakes I made\n"
   ]
  },
  {
   "cell_type": "markdown",
   "metadata": {},
   "source": [
    "- Forgot to apply tanh function on the output of layer one\n",
    "- Didn't pass the activated value to derivation function\n",
    "- Initially, didn't normalize the \n",
    "- Initially, didn't used the weight scaling\n",
    "- Used the wrong derivative of `tanh` function (used (1-tanh)^2 instead of 1-(tanh)^2)\n"
   ]
  },
  {
   "cell_type": "markdown",
   "metadata": {},
   "source": [
    "# Model Traning with batching\n"
   ]
  },
  {
   "cell_type": "markdown",
   "metadata": {},
   "source": [
    "- creating the dataframe\n"
   ]
  },
  {
   "cell_type": "code",
   "execution_count": 458,
   "metadata": {},
   "outputs": [],
   "source": [
    "df = pd.concat((X, pd.DataFrame(dataset[\"target\"], columns=[\"Target\"])), axis=1)"
   ]
  },
  {
   "cell_type": "code",
   "execution_count": 459,
   "metadata": {},
   "outputs": [],
   "source": [
    "X_train, X_test, y_train, y_test = train_test_split(\n",
    "    df.drop(columns=[\"Target\"]), df[\"Target\"], test_size=0.2, random_state=90\n",
    ")"
   ]
  },
  {
   "cell_type": "code",
   "execution_count": 460,
   "metadata": {},
   "outputs": [],
   "source": [
    "batches_X_train = []\n",
    "batches_y_train = []\n",
    "j = 0\n",
    "for i in range(40):\n",
    "    batches_X_train.append(np.array(X_train[j : j + 32]))\n",
    "    batches_y_train.append(np.array(y_train[j : j + 32]))\n",
    "    j = j + 32"
   ]
  },
  {
   "cell_type": "code",
   "execution_count": null,
   "metadata": {},
   "outputs": [],
   "source": [
    "plt.figure(figsize=(8, 3))\n",
    "rand_batch = np.random.randint(0, 39)\n",
    "for i in range(32):\n",
    "    index = np.random.randint(0, 32)\n",
    "    plt.subplot(4, 8, i + 1)\n",
    "    plt.axis(False)\n",
    "    plt.imshow(batches_X_train[rand_batch][index].reshape((8, 8)), cmap=\"gray\")\n",
    "plt.show()"
   ]
  },
  {
   "cell_type": "markdown",
   "metadata": {},
   "source": [
    "- hyperParamter initialization\n"
   ]
  },
  {
   "cell_type": "code",
   "execution_count": 462,
   "metadata": {},
   "outputs": [],
   "source": [
    "W1 = np.random.rand(64, 32)\n",
    "W2 = np.random.rand(32, 10)\n",
    "B1 = np.random.rand(1, 32)\n",
    "B2 = np.random.rand(1, 10)\n",
    "learning_rate = 0.01\n",
    "randomization = 10\n",
    "losses = []\n",
    "validation_losses = []\n",
    "iteration = 0\n",
    "loss_threshold = 0.226395\n",
    "epochs = 0\n",
    "stored = True\n",
    "flag = True"
   ]
  },
  {
   "cell_type": "code",
   "execution_count": 463,
   "metadata": {},
   "outputs": [],
   "source": [
    "X = X_train\n",
    "y = y_train"
   ]
  },
  {
   "cell_type": "markdown",
   "metadata": {},
   "source": [
    "- Traning loop\n"
   ]
  },
  {
   "cell_type": "code",
   "execution_count": 464,
   "metadata": {},
   "outputs": [],
   "source": [
    "while flag:\n",
    "    if stored:\n",
    "        break\n",
    "\n",
    "    if epochs % randomization == 0:\n",
    "        # Splitting the data\n",
    "        X_train, X_validate, y_train, y_validate = train_test_split(X, y, test_size=0.1)\n",
    "        y_train = pd.get_dummies(y_train)\n",
    "        y_validate = pd.get_dummies(y_validate)\n",
    "        # Creating the batches\n",
    "        batches_X_train = []\n",
    "        batches_y_train = []\n",
    "        j = 0\n",
    "        for i in range(35):\n",
    "            batches_X_train.append(np.array(X_train[j : j + 32]))\n",
    "            batches_y_train.append(np.array(y_train[j : j + 32]))\n",
    "            j = j + 32\n",
    "\n",
    "    for i in range(len(batches_X_train)):\n",
    "        result = linear_reg_with_NN(\n",
    "            tanh_activation,\n",
    "            softmax_cross_entropy,\n",
    "            x=batches_X_train[i],  # the batches of images with batch size of 32\n",
    "            w1=W1,\n",
    "            w2=W2,\n",
    "            b1=B1,\n",
    "            b2=B2,\n",
    "            y=batches_y_train[i],\n",
    "        )\n",
    "\n",
    "        y_pred_custom = result[\"y_pred\"]\n",
    "\n",
    "        loss = result[\"loss\"]\n",
    "\n",
    "        shape_of_xw1 = result[\"shape_of_xw1\"]\n",
    "\n",
    "        shape_of_x2w2 = result[\"shape_of_x2w2\"]\n",
    "\n",
    "        x1w1B1 = result[\"x1w1B1\"]\n",
    "\n",
    "        iteration += 1\n",
    "\n",
    "        losses.append(loss)\n",
    "\n",
    "        if loss <= loss_threshold and validation_loss <= loss_threshold:\n",
    "\n",
    "            final_Weights = {\"W1\": W1, \"W2\": W2}\n",
    "\n",
    "            final_bias = {\"B1\": B1, \"B2\": B2}\n",
    "\n",
    "            print(\n",
    "                f\"values of Weigths : {final_Weights} and biases : {final_bias} and loss : {loss}\"\n",
    "            )\n",
    "            flag = False\n",
    "            break\n",
    "\n",
    "        derivates = derivatives(\n",
    "            x1=batches_X_train[i],  # the batches of images with batch size of 32\n",
    "            x2=x1w1B1,\n",
    "            w2=W2,\n",
    "            tanh_activation=tanh_activation,\n",
    "            shape_of_xw1=shape_of_xw1,\n",
    "            shape_of_x2w2=shape_of_x2w2,\n",
    "            y_pred=y_pred_custom,\n",
    "            y=batches_y_train[i],\n",
    "        )\n",
    "\n",
    "        W1 -= learning_rate * (derivates[\"dL_dW1\"])\n",
    "\n",
    "        B1 -= learning_rate * (derivates[\"dL_dB1\"])\n",
    "\n",
    "        W2 -= learning_rate * (derivates[\"dL_dW2\"])\n",
    "\n",
    "        B2 -= learning_rate * (derivates[\"dL_dB2\"])\n",
    "\n",
    "        # Validation\n",
    "        validation = linear_reg_with_NN(\n",
    "            tanh_activation,\n",
    "            softmax_cross_entropy,\n",
    "            x=X_validate,\n",
    "            w1=W1,\n",
    "            w2=W2,\n",
    "            b1=B1,\n",
    "            b2=B2,\n",
    "            y=y_validate,\n",
    "        )\n",
    "        validation_loss = validation[\"loss\"]\n",
    "        validation_losses.append(validation_loss)\n",
    "\n",
    "        if iteration % 800 == 0:\n",
    "\n",
    "            print(\n",
    "                f\"Traning loss is {loss}, validation loss is {validation_loss} and the learning rate is {learning_rate}\"\n",
    "            )\n",
    "\n",
    "    epochs += 1\n",
    "    if epochs % 50 == 0 and learning_rate != 0.00001:\n",
    "        learning_rate *= 0.1\n",
    "\n",
    "    # if epochs % 100 == 0:\n",
    "    #     learning_rate /= 0.1\n",
    "\n",
    "if not stored:\n",
    "    plt.plot(losses)\n",
    "    plt.plot(validation_losses)\n",
    "\n",
    "    plt.legend([\"Losses\", \"validation lossess\"])\n",
    "\n",
    "    plt.show()"
   ]
  },
  {
   "cell_type": "code",
   "execution_count": null,
   "metadata": {},
   "outputs": [],
   "source": [
    "if stored:\n",
    "    image = plt.imread(\"./Images/Digits_classification_with_batching.png\")\n",
    "    plt.imshow(image)\n",
    "    plt.axis(False)\n",
    "    plt.show()"
   ]
  },
  {
   "cell_type": "markdown",
   "metadata": {},
   "source": [
    "- Saving the state dict as json file\n"
   ]
  },
  {
   "cell_type": "code",
   "execution_count": 466,
   "metadata": {},
   "outputs": [],
   "source": [
    "import json\n",
    "\n",
    "file_path = \"model/state_dict_digits_classification_with_batches.json\"\n",
    "if not stored:\n",
    "    state_dict = {\n",
    "        \"Weights\": {\n",
    "            \"w1\": final_Weights[\"W1\"].tolist(),\n",
    "            \"w2\": final_Weights[\"W2\"].tolist(),\n",
    "        },\n",
    "        \"Biases\": {\"b1\": final_bias[\"B1\"].tolist(), \"b2\": final_bias[\"B2\"].tolist()},\n",
    "    }\n",
    "\n",
    "    with open(file_path, \"w\") as json_file:\n",
    "        json.dump(state_dict, json_file, indent=6)"
   ]
  },
  {
   "cell_type": "code",
   "execution_count": 467,
   "metadata": {},
   "outputs": [],
   "source": [
    "with open(file_path, \"r\") as json_file_read:\n",
    "    hyper_parameters = json.load(json_file_read)"
   ]
  },
  {
   "cell_type": "code",
   "execution_count": null,
   "metadata": {},
   "outputs": [],
   "source": [
    "y_test = pd.get_dummies(y_test)\n",
    "y_pred = linear_reg_with_NN(\n",
    "    tanh_activation,\n",
    "    softmax_cross_entropy,\n",
    "    x=X_test,\n",
    "    w1=convert_to_np_array(hyper_parameters[\"Weights\"][\"w1\"]),\n",
    "    w2=convert_to_np_array(hyper_parameters[\"Weights\"][\"w2\"]),\n",
    "    b1=convert_to_np_array(hyper_parameters[\"Biases\"][\"b1\"]),\n",
    "    b2=convert_to_np_array(hyper_parameters[\"Biases\"][\"b2\"]),\n",
    "    y=y_test,\n",
    ")\n",
    "y_pred"
   ]
  },
  {
   "cell_type": "code",
   "execution_count": null,
   "metadata": {},
   "outputs": [],
   "source": [
    "y_pred[\"loss\"]"
   ]
  },
  {
   "cell_type": "code",
   "execution_count": null,
   "metadata": {},
   "outputs": [],
   "source": [
    "len(y_test)"
   ]
  },
  {
   "cell_type": "code",
   "execution_count": null,
   "metadata": {},
   "outputs": [],
   "source": [
    "final_result = np.sum(y_test == y_pred[\"y_pred\"], axis=1) == 10\n",
    "final_result = np.sum(final_result)\n",
    "final_result"
   ]
  },
  {
   "cell_type": "code",
   "execution_count": null,
   "metadata": {},
   "outputs": [],
   "source": [
    "(final_result / len(y_test)) * 100"
   ]
  },
  {
   "cell_type": "markdown",
   "metadata": {},
   "source": [
    "# Mistakes I made"
   ]
  },
  {
   "cell_type": "markdown",
   "metadata": {},
   "source": [
    "*   Ignored the validation loss optimization for generalization of the model"
   ]
  },
  {
   "cell_type": "markdown",
   "metadata": {},
   "source": [
    "# NN for Fashion MNIST classification"
   ]
  },
  {
   "cell_type": "code",
   "execution_count": 473,
   "metadata": {},
   "outputs": [],
   "source": [
    "from matplotlib import pyplot as plt"
   ]
  },
  {
   "cell_type": "markdown",
   "metadata": {},
   "source": [
    "-   Dataset loading"
   ]
  },
  {
   "cell_type": "code",
   "execution_count": 517,
   "metadata": {},
   "outputs": [],
   "source": [
    "df_train = pd.read_csv(\n",
    "    r\"F:\\Projects\\vscode Projects\\Learning\\Deep Learning from Scratch\\Datasets\\archive (1)\\fashion-mnist_train.csv\"\n",
    ")\n",
    "df_test = pd.read_csv(r\"F:\\Projects\\vscode Projects\\Learning\\Deep Learning from Scratch\\Datasets\\archive (1)\\fashion-mnist_test.csv\")"
   ]
  },
  {
   "cell_type": "code",
   "execution_count": 519,
   "metadata": {},
   "outputs": [],
   "source": [
    "dataset_len_train = 60000\n",
    "dataset_len_test = 10000\n",
    "X_train = np.array(df_train.drop(columns=[\"label\"]))\n",
    "y_train = np.array(df_train[\"label\"])\n",
    "X_test = np.array(df_test.drop(columns=[\"label\"]))\n",
    "y_test = np.array(df_test[\"label\"])"
   ]
  },
  {
   "cell_type": "markdown",
   "metadata": {},
   "source": [
    "-   Visualizing the traning dataset"
   ]
  },
  {
   "cell_type": "code",
   "execution_count": 520,
   "metadata": {},
   "outputs": [
    {
     "data": {
      "image/png": "[encoded data removed]",
      "text/plain": [
       "<Figure size 800x500 with 32 Axes>"
      ]
     },
     "metadata": {},
     "output_type": "display_data"
    }
   ],
   "source": [
    "plt.figure(figsize=(8, 5))\n",
    "for i in range(32):\n",
    "    index = np.random.randint(0, dataset_len_train)\n",
    "    plt.subplot(4, 8, i + 1)\n",
    "    plt.axis(False)\n",
    "    plt.imshow(X_train[index].reshape((28, 28)), cmap=\"gray\")\n",
    "    plt.title(y_train[index])\n",
    "plt.show()"
   ]
  },
  {
   "cell_type": "markdown",
   "metadata": {},
   "source": [
    "-    Normalizing the datasets"
   ]
  },
  {
   "cell_type": "code",
   "execution_count": 477,
   "metadata": {},
   "outputs": [],
   "source": [
    "norm_train_df = (X_train - np.mean(X_train)) / np.std(X_train)\n",
    "norm_test_df = (X_test - np.mean(X_test)) / np.std(X_test)"
   ]
  },
  {
   "cell_type": "code",
   "execution_count": 478,
   "metadata": {},
   "outputs": [],
   "source": [
    "X_train = pd.DataFrame(norm_train_df)\n",
    "X_test = pd.DataFrame(norm_test_df)\n",
    "y_train = pd.get_dummies(\n",
    "    pd.DataFrame(np.array(list(map(str, y_train))), columns=[\"Target_Img\"])\n",
    ")\n",
    "y_test = pd.get_dummies(\n",
    "    pd.DataFrame(np.array(list(map(str, y_test))), columns=[\"Target_Img\"])\n",
    ")"
   ]
  },
  {
   "cell_type": "markdown",
   "metadata": {},
   "source": [
    "-   hyperParamter initialization"
   ]
  },
  {
   "cell_type": "code",
   "execution_count": 479,
   "metadata": {},
   "outputs": [],
   "source": [
    "W1 = np.random.rand(784, 32)\n",
    "W2 = np.random.rand(32, 10)\n",
    "B1 = np.random.rand(1, 32)\n",
    "B2 = np.random.rand(1, 10)\n",
    "learning_rate = 0.01\n",
    "randomization = 10\n",
    "losses = []\n",
    "validation_losses = []\n",
    "iteration = 0\n",
    "loss_threshold = 0.24\n",
    "epochs = 0\n",
    "stored = True\n",
    "flag = True"
   ]
  },
  {
   "cell_type": "code",
   "execution_count": 480,
   "metadata": {},
   "outputs": [],
   "source": [
    "X = X_train\n",
    "y = y_train"
   ]
  },
  {
   "cell_type": "markdown",
   "metadata": {},
   "source": [
    "-   Traning loop"
   ]
  },
  {
   "cell_type": "code",
   "execution_count": 481,
   "metadata": {},
   "outputs": [],
   "source": [
    "while epochs <= 5:\n",
    "    if stored:\n",
    "        break\n",
    "\n",
    "    if epochs % randomization == 0:\n",
    "        # Splitting the data\n",
    "        X_train, X_validate, y_train, y_validate = train_test_split(X, y, test_size=0.2)\n",
    "        y_train = pd.get_dummies(y_train)\n",
    "        y_validate = pd.get_dummies(y_validate)\n",
    "        # Creating the batches\n",
    "        batches_X_train = []\n",
    "        batches_y_train = []\n",
    "        j = 0\n",
    "        for i in range(1875):\n",
    "            batches_X_train.append(np.array(X_train[j : j + 32]))\n",
    "            batches_y_train.append(np.array(y_train[j : j + 32]))\n",
    "            j = j + 32\n",
    "\n",
    "    for i in range(len(batches_X_train)):\n",
    "        result = linear_reg_with_NN(\n",
    "            tanh_activation,\n",
    "            softmax_cross_entropy,\n",
    "            x=batches_X_train[i],  # the batches of images with batch size of 32\n",
    "            w1=W1,\n",
    "            w2=W2,\n",
    "            b1=B1,\n",
    "            b2=B2,\n",
    "            y=batches_y_train[i],\n",
    "        )\n",
    "\n",
    "        y_pred_custom = result[\"y_pred\"]\n",
    "\n",
    "        loss = result[\"loss\"]\n",
    "\n",
    "        shape_of_xw1 = result[\"shape_of_xw1\"]\n",
    "\n",
    "        shape_of_x2w2 = result[\"shape_of_x2w2\"]\n",
    "\n",
    "        x1w1B1 = result[\"x1w1B1\"]\n",
    "\n",
    "        iteration += 1\n",
    "\n",
    "        losses.append(loss)\n",
    "\n",
    "        if loss <= loss_threshold and validation_loss <= loss_threshold:\n",
    "\n",
    "            final_Weights = {\"W1\": W1, \"W2\": W2}\n",
    "\n",
    "            final_bias = {\"B1\": B1, \"B2\": B2}\n",
    "\n",
    "            print(\n",
    "                f\"values of Weigths : {final_Weights} and biases : {final_bias} and loss : {loss}\"\n",
    "            )\n",
    "            flag = False\n",
    "            break\n",
    "\n",
    "        derivates = derivatives(\n",
    "            x1=batches_X_train[i],  # the batches of images with batch size of 32\n",
    "            x2=x1w1B1,\n",
    "            w2=W2,\n",
    "            tanh_activation=tanh_activation,\n",
    "            shape_of_xw1=shape_of_xw1,\n",
    "            shape_of_x2w2=shape_of_x2w2,\n",
    "            y_pred=y_pred_custom,\n",
    "            y=batches_y_train[i],\n",
    "        )\n",
    "\n",
    "        W1 -= learning_rate * (derivates[\"dL_dW1\"])\n",
    "\n",
    "        B1 -= learning_rate * (derivates[\"dL_dB1\"])\n",
    "\n",
    "        W2 -= learning_rate * (derivates[\"dL_dW2\"])\n",
    "\n",
    "        B2 -= learning_rate * (derivates[\"dL_dB2\"])\n",
    "\n",
    "        # Validation\n",
    "        validation = linear_reg_with_NN(\n",
    "            tanh_activation,\n",
    "            softmax_cross_entropy,\n",
    "            x=X_validate,\n",
    "            w1=W1,\n",
    "            w2=W2,\n",
    "            b1=B1,\n",
    "            b2=B2,\n",
    "            y=y_validate,\n",
    "        )\n",
    "        validation_loss = validation[\"loss\"]\n",
    "        validation_losses.append(validation_loss)\n",
    "\n",
    "        if iteration % 100 == 0:\n",
    "\n",
    "            print(\n",
    "                f\"Traning loss is {loss}, validation loss is {validation_loss} and the learning rate is {learning_rate}\"\n",
    "            )\n",
    "\n",
    "    epochs += 1\n",
    "    if epochs % 2 == 0 and learning_rate != 0.00001:\n",
    "        learning_rate *= 0.1\n",
    "\n",
    "    # if epochs % 100 == 0:\n",
    "    #     learning_rate /= 0.1\n",
    "\n",
    "if not stored:\n",
    "    plt.plot(losses)\n",
    "    plt.plot(validation_losses)\n",
    "\n",
    "    plt.legend([\"Losses\", \"validation lossess\"])\n",
    "\n",
    "    plt.show()"
   ]
  },
  {
   "cell_type": "markdown",
   "metadata": {},
   "source": [
    "- Saving the state dict of the model"
   ]
  },
  {
   "cell_type": "code",
   "execution_count": 482,
   "metadata": {},
   "outputs": [],
   "source": [
    "import json\n",
    "\n",
    "file_path = \"model/state_dict_mnist_fashion_classification_with_batches.json\"\n",
    "if not stored:\n",
    "    state_dict = {\n",
    "        \"Weights\": {\n",
    "            \"w1\": final_Weights[\"W1\"].tolist(),\n",
    "            \"w2\": final_Weights[\"W2\"].tolist(),\n",
    "        },\n",
    "        \"Biases\": {\"b1\": final_bias[\"B1\"].tolist(), \"b2\": final_bias[\"B2\"].tolist()},\n",
    "    }\n",
    "\n",
    "    with open(file_path, \"w\") as json_file:\n",
    "        json.dump(state_dict, json_file, indent=6)"
   ]
  },
  {
   "cell_type": "code",
   "execution_count": 483,
   "metadata": {},
   "outputs": [],
   "source": [
    "with open(file_path, \"r\") as json_file_read:\n",
    "    hyper_parameters = json.load(json_file_read)"
   ]
  },
  {
   "cell_type": "markdown",
   "metadata": {},
   "source": [
    "- Testing loop"
   ]
  },
  {
   "cell_type": "code",
   "execution_count": null,
   "metadata": {},
   "outputs": [],
   "source": [
    "y_test = pd.get_dummies(y_test)\n",
    "y_pred = linear_reg_with_NN(\n",
    "    tanh_activation,\n",
    "    softmax_cross_entropy,\n",
    "    x=X_test,\n",
    "    w1=convert_to_np_array(hyper_parameters[\"Weights\"][\"w1\"]),\n",
    "    w2=convert_to_np_array(hyper_parameters[\"Weights\"][\"w2\"]),\n",
    "    b1=convert_to_np_array(hyper_parameters[\"Biases\"][\"b1\"]),\n",
    "    b2=convert_to_np_array(hyper_parameters[\"Biases\"][\"b2\"]),\n",
    "    y=y_test,\n",
    ")\n",
    "y_pred"
   ]
  },
  {
   "cell_type": "code",
   "execution_count": null,
   "metadata": {},
   "outputs": [],
   "source": [
    "len(y_test)"
   ]
  },
  {
   "cell_type": "code",
   "execution_count": null,
   "metadata": {},
   "outputs": [],
   "source": [
    "final_result = np.sum(y_test == y_pred[\"y_pred\"], axis=1) == 10\n",
    "final_result = np.sum(final_result)\n",
    "final_result"
   ]
  },
  {
   "cell_type": "code",
   "execution_count": null,
   "metadata": {},
   "outputs": [],
   "source": [
    "(final_result / len(y_test)) * 100"
   ]
  },
  {
   "cell_type": "code",
   "execution_count": 558,
   "metadata": {},
   "outputs": [
    {
     "data": {
      "image/png": "[encoded data removed]",
      "text/plain": [
       "<Figure size 300x300 with 1 Axes>"
      ]
     },
     "metadata": {},
     "output_type": "display_data"
    }
   ],
   "source": [
    "img = X_train[0]\n",
    "img = img.reshape((28, 28))\n",
    "plt.figure(figsize=(3,3))\n",
    "plt.imshow(img, cmap=\"gray\")\n",
    "plt.show()"
   ]
  },
  {
   "cell_type": "code",
   "execution_count": 559,
   "metadata": {},
   "outputs": [
    {
     "data": {
      "text/plain": [
       "array([[-1, -1, -1],\n",
       "       [-1,  8, -1],\n",
       "       [-1, -1, -1]])"
      ]
     },
     "execution_count": 559,
     "metadata": {},
     "output_type": "execute_result"
    }
   ],
   "source": [
    "kernel = np.array([[-1, -1, -1], [-1, 8, -1], [-1, -1, -1]])\n",
    "kernel"
   ]
  },
  {
   "cell_type": "markdown",
   "metadata": {},
   "source": [
    "-   convolving the image"
   ]
  },
  {
   "cell_type": "code",
   "execution_count": 560,
   "metadata": {},
   "outputs": [],
   "source": [
    "img_copy = img.copy()\n",
    "for _ in range(4):\n",
    "    new_size = (\n",
    "        img_copy.shape[0] - kernel.shape[0] + 1,\n",
    "        img_copy.shape[1] - kernel.shape[1] + 1,\n",
    "    )\n",
    "    new_image = np.zeros(new_size)\n",
    "    for i in range(new_size[0]):\n",
    "        for j in range(new_size[1]):\n",
    "            new_image[i, j] = np.sum(\n",
    "                img_copy[i : i + kernel.shape[0], j : j + kernel.shape[1]] * kernel\n",
    "            )\n",
    "    img_copy = new_image"
   ]
  },
  {
   "cell_type": "code",
   "execution_count": 561,
   "metadata": {},
   "outputs": [
    {
     "data": {
      "text/plain": [
       "array([[ 6.40380e+04, -1.99630e+05, -4.16303e+05, -2.92250e+05,\n",
       "         4.73924e+05,  5.23161e+05,  3.88859e+05,  5.91599e+05,\n",
       "         5.81960e+04, -2.96800e+03,  3.40915e+05,  5.40215e+05,\n",
       "         3.17672e+05,  2.41568e+05,  6.96844e+05, -1.21170e+04,\n",
       "        -4.24000e+05, -1.08785e+05,  8.37460e+04,  7.94000e+03],\n",
       "       [-3.74150e+04, -1.28318e+05,  7.14688e+05,  1.63839e+05,\n",
       "        -1.95600e+03, -3.20700e+05, -4.13426e+05, -3.05764e+05,\n",
       "         1.30758e+05, -5.14320e+05, -1.88528e+05, -3.50102e+05,\n",
       "        -3.18872e+05, -3.09584e+05, -1.80914e+05,  5.84390e+04,\n",
       "         5.24389e+05, -1.82610e+05, -1.00636e+05,  1.63941e+05],\n",
       "       [-3.88977e+05,  2.94448e+05, -2.41494e+05, -3.41281e+05,\n",
       "        -7.33590e+04,  8.83020e+04,  1.98232e+05,  1.37400e+04,\n",
       "         1.39111e+05,  3.25084e+05,  3.01269e+05,  1.31503e+05,\n",
       "         1.55253e+05,  1.14741e+05,  9.58900e+03, -2.14055e+05,\n",
       "        -1.89215e+05,  5.06090e+05, -4.44874e+05,  6.92890e+04],\n",
       "       [ 5.94110e+04,  1.38192e+05, -1.40313e+05,  1.83603e+05,\n",
       "         1.31227e+05, -8.48740e+04, -6.16100e+03, -4.69030e+04,\n",
       "        -1.25273e+05, -2.16464e+05, -2.19488e+05, -4.66600e+04,\n",
       "        -1.06920e+05,  1.75300e+04, -1.23700e+04,  1.83786e+05,\n",
       "        -2.02672e+05,  6.13780e+04,  1.28137e+05, -1.36079e+05],\n",
       "       [ 5.72364e+05, -1.92207e+05,  1.23460e+04, -4.78610e+04,\n",
       "        -1.25240e+04,  2.19580e+04,  9.25660e+04,  3.86530e+04,\n",
       "         1.25200e+05,  1.54367e+05,  1.44855e+05,  1.33591e+05,\n",
       "         5.47200e+04,  9.58730e+04, -1.64450e+04,  3.38370e+04,\n",
       "        -6.50570e+04, -1.55440e+05,  4.59823e+05, -5.64844e+05],\n",
       "       [ 1.47533e+05, -2.73927e+05,  1.39546e+05, -2.95650e+04,\n",
       "         5.07300e+04, -8.06680e+04, -1.66370e+05, -1.10401e+05,\n",
       "        -1.24926e+05, -1.70777e+05, -1.95351e+05, -2.20052e+05,\n",
       "        -1.82400e+05, -1.56400e+05, -9.18380e+04,  6.71410e+04,\n",
       "         5.46160e+04, -1.25941e+05,  5.56240e+04,  3.27444e+05],\n",
       "       [-8.63660e+04,  1.15610e+04,  4.86200e+04, -4.57150e+04,\n",
       "        -5.04920e+04,  3.86200e+04,  2.34363e+05,  1.35936e+05,\n",
       "         1.43290e+05,  1.15709e+05,  2.85468e+05,  2.30911e+05,\n",
       "         3.05912e+05,  2.25792e+05,  7.84980e+04, -3.65610e+04,\n",
       "        -1.50970e+04,  5.19110e+04, -2.57322e+05,  2.82090e+05],\n",
       "       [-3.45525e+05,  6.50990e+04, -1.66070e+04, -3.75470e+04,\n",
       "         8.54400e+04, -2.98700e+03, -4.59240e+04, -2.49069e+05,\n",
       "         1.31740e+05, -3.12906e+05, -7.67500e+03, -1.94804e+05,\n",
       "        -3.03087e+05, -1.58492e+05, -8.51450e+04,  8.50930e+04,\n",
       "        -9.34610e+04,  1.45520e+05, -1.03650e+05,  4.54330e+04],\n",
       "       [-1.38254e+05,  1.21596e+05,  5.32390e+04, -8.10040e+04,\n",
       "         1.55270e+05, -6.11820e+04, -1.45200e+04, -1.53922e+05,\n",
       "         3.60528e+05, -8.77840e+04,  1.76050e+04,  7.10220e+04,\n",
       "         1.67612e+05,  9.01660e+04, -3.76170e+04,  1.41510e+05,\n",
       "        -1.09262e+05,  6.54850e+04, -8.24500e+03, -2.75411e+05],\n",
       "       [-4.45270e+04, -4.64300e+03, -3.13360e+04, -1.25618e+05,\n",
       "         3.02100e+03, -1.01607e+05,  1.22360e+04, -1.84983e+05,\n",
       "         5.68690e+04, -1.89185e+05, -4.03800e+04, -1.09017e+05,\n",
       "        -2.65120e+04, -7.60970e+04, -7.76430e+04,  1.24240e+04,\n",
       "        -6.85350e+04,  1.86330e+04,  6.81850e+04, -1.57527e+05],\n",
       "       [ 1.36057e+05,  1.95910e+04,  5.69440e+04,  6.39140e+04,\n",
       "         6.79930e+04,  1.26265e+05,  2.00909e+05,  1.24617e+05,\n",
       "         1.18079e+05,  1.42416e+05,  2.29788e+05,  1.32591e+05,\n",
       "         8.70810e+04,  7.40450e+04,  5.55740e+04,  6.04740e+04,\n",
       "         2.68210e+04,  1.83690e+04, -9.58700e+03,  8.51250e+04],\n",
       "       [ 5.39270e+04, -3.30670e+04, -5.76010e+04, -8.06800e+03,\n",
       "        -7.84170e+04, -1.33687e+05, -1.33495e+05, -1.36971e+05,\n",
       "        -1.60118e+05, -1.50950e+05, -1.95364e+05, -1.25271e+05,\n",
       "        -1.02409e+05, -2.73890e+04, -7.22610e+04, -3.22450e+04,\n",
       "        -3.75870e+04, -9.44300e+03,  9.45900e+03,  1.16940e+05],\n",
       "       [ 4.53000e+04, -1.87900e+03, -2.01150e+04,  4.50710e+04,\n",
       "         8.39100e+03,  3.77270e+04,  7.26280e+04,  1.09711e+05,\n",
       "         9.90710e+04,  8.81050e+04,  7.53370e+04,  7.19720e+04,\n",
       "        -5.22800e+03,  4.44960e+04, -5.59200e+03,  2.58000e+04,\n",
       "         5.26130e+04, -8.19780e+04, -5.56680e+04, -2.99310e+04],\n",
       "       [-4.75100e+03,  3.06230e+04,  9.34000e+03,  2.69040e+04,\n",
       "         3.03600e+03,  2.52900e+03, -3.89820e+04, -5.64940e+04,\n",
       "        -2.92240e+04, -2.47100e+03, -1.29410e+04,  1.51950e+04,\n",
       "         2.28170e+04,  2.23330e+04,  4.91500e+04, -1.20734e+05,\n",
       "         7.09820e+04,  6.85230e+04,  2.06655e+05,  5.67450e+04],\n",
       "       [-1.49280e+04, -6.21680e+04, -4.65320e+04, -3.72440e+04,\n",
       "        -1.15700e+03,  1.46100e+03,  3.61300e+04, -5.50000e+01,\n",
       "        -2.21880e+04,  4.29600e+03, -2.58650e+04, -3.17900e+04,\n",
       "        -3.49230e+04, -6.74690e+04,  4.30380e+04, -4.25400e+04,\n",
       "         9.59430e+04, -1.06903e+05, -5.51032e+05,  4.58705e+05],\n",
       "       [-1.10780e+04,  3.61330e+04,  1.53396e+05, -9.20750e+04,\n",
       "         7.60010e+04, -3.47120e+04,  1.34800e+04,  1.25610e+04,\n",
       "         5.08400e+03,  9.76400e+03,  2.64060e+04,  3.34120e+04,\n",
       "         4.66060e+04,  2.83350e+04,  4.80390e+04, -4.59850e+04,\n",
       "        -2.63421e+05,  8.11701e+05, -8.65073e+05,  8.20670e+05],\n",
       "       [ 1.79767e+05, -4.25691e+05,  3.50052e+05, -2.87637e+05,\n",
       "         1.13966e+05, -8.46720e+04, -4.30150e+04, -3.03960e+04,\n",
       "         2.31200e+03, -5.03040e+04, -4.17740e+04, -4.89830e+04,\n",
       "        -3.87130e+04, -9.16580e+04,  5.58520e+04,  2.17920e+04,\n",
       "        -3.33668e+05,  7.51382e+05, -6.35465e+05, -1.52616e+05],\n",
       "       [-4.34995e+05, -1.31695e+05,  4.72911e+05, -3.89564e+05,\n",
       "         2.82776e+05,  6.10000e+04,  1.18474e+05,  7.17760e+04,\n",
       "         6.49750e+04,  7.29700e+04,  8.53280e+04,  6.46510e+04,\n",
       "         8.39690e+04,  3.00510e+04,  1.39355e+05, -2.08060e+04,\n",
       "        -1.18010e+05,  2.22502e+05, -2.87316e+05,  2.08105e+05],\n",
       "       [ 2.70273e+05, -2.05364e+05,  5.18542e+05, -4.72597e+05,\n",
       "         1.13502e+05, -1.96950e+05, -1.13679e+05, -8.90040e+04,\n",
       "        -7.05960e+04, -5.72190e+04, -5.42680e+04, -4.59830e+04,\n",
       "        -3.74190e+04, -8.61870e+04,  3.69890e+04, -1.96814e+05,\n",
       "         4.52960e+04,  1.76067e+05, -2.32250e+05,  2.35977e+05],\n",
       "       [ 1.83054e+05, -7.53907e+05,  5.65748e+05, -4.81354e+05,\n",
       "         5.63710e+04, -1.03330e+04, -2.12990e+04, -5.22960e+04,\n",
       "        -8.44610e+04, -1.02501e+05, -1.22464e+05, -1.07452e+05,\n",
       "        -1.17762e+05, -1.07070e+05,  1.87170e+04, -3.27138e+05,\n",
       "         2.69645e+05, -1.55150e+05, -4.05150e+04,  6.12200e+04]])"
      ]
     },
     "execution_count": 561,
     "metadata": {},
     "output_type": "execute_result"
    }
   ],
   "source": [
    "img_copy"
   ]
  },
  {
   "cell_type": "code",
   "execution_count": 562,
   "metadata": {},
   "outputs": [
    {
     "data": {
      "text/plain": [
       "(20, 20)"
      ]
     },
     "execution_count": 562,
     "metadata": {},
     "output_type": "execute_result"
    }
   ],
   "source": [
    "img_copy.shape"
   ]
  },
  {
   "cell_type": "code",
   "execution_count": 563,
   "metadata": {},
   "outputs": [
    {
     "data": {
      "image/png": "[encoded data removed]",
      "text/plain": [
       "<Figure size 640x480 with 1 Axes>"
      ]
     },
     "metadata": {},
     "output_type": "display_data"
    }
   ],
   "source": [
    "plt.imshow(img_copy, cmap=\"gray\")\n",
    "plt.show()"
   ]
  }
 ],
 "metadata": {
  "kernelspec": {
   "display_name": "Python 3",
   "language": "python",
   "name": "python3"
  },
  "language_info": {
   "codemirror_mode": {
    "name": "ipython",
    "version": 3
   },
   "file_extension": ".py",
   "mimetype": "text/x-python",
   "name": "python",
   "nbconvert_exporter": "python",
   "pygments_lexer": "ipython3",
   "version": "3.12.2"
  }
 },
 "nbformat": 4,
 "nbformat_minor": 2
}
